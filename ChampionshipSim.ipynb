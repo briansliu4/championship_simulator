{
 "cells": [
  {
   "cell_type": "code",
   "execution_count": 11,
   "id": "2f4e0bae-cd6e-479a-9c1e-782540f70976",
   "metadata": {},
   "outputs": [],
   "source": [
    "import pandas as pd\n",
    "import numpy as np\n",
    "from scipy.stats import poisson \n",
    "from scipy.optimize import curve_fit\n",
    "import matplotlib.pyplot as plt\n",
    "import time\n",
    "import warnings\n",
    "warnings.filterwarnings(\"ignore\")"
   ]
  },
  {
   "cell_type": "code",
   "execution_count": 12,
   "id": "0e52e3f6-ab13-4961-9094-ce1dc53f09af",
   "metadata": {},
   "outputs": [],
   "source": [
    "dict_matches_left = pd.read_csv(\"Remaining.csv\")\n",
    "matches_left = {'HomeTeam': [],\n",
    "                'AwayTeam': []}\n",
    "for i in range(len(dict_matches_left.axes[0])):\n",
    "    matches_left['HomeTeam'].append(dict_matches_left['HomeTeam'][i])\n",
    "    matches_left['AwayTeam'].append(dict_matches_left['AwayTeam'][i])\n",
    "\n",
    "remaining = pd.DataFrame(matches_left)\n"
   ]
  },
  {
   "cell_type": "code",
   "execution_count": 13,
   "id": "bd447c74-5b0d-4bd6-b13d-d39c68818fe0",
   "metadata": {},
   "outputs": [],
   "source": [
    "leagues_short = ['la_liga']\n",
    "dict_historical_data = {}\n",
    "\n",
    "for league in leagues_short:\n",
    "    frames = []\n",
    "    df = pd.read_csv(\"SP\"+str(1)+\".csv\")\n",
    "    df = df[['Date', 'HomeTeam', 'AwayTeam', 'FTHG', 'FTAG']]\n",
    "    df = df.rename(columns={'FTHG': 'HomeGoals', 'FTAG': 'AwayGoals'})\n",
    "    df = df.assign(Season=i)\n",
    "    frames.append(df)\n",
    "    df_historical_data = pd.concat(frames)\n",
    "    df_historical_data['Date'] = pd.to_datetime(df_historical_data['Date'])\n",
    "    dict_historical_data[league] = df_historical_data\n",
    "\n",
    "for i in range(2, 5):\n",
    "    frames = []\n",
    "    df = pd.read_csv(\"SP\"+str(i)+\".csv\")\n",
    "    df = df[['Date', 'HomeTeam', 'AwayTeam', 'FTHG', 'FTAG']]\n",
    "    df = df.rename(columns={'FTHG': 'HomeGoals', 'FTAG': 'AwayGoals'})\n",
    "    df = df.assign(Season=i)\n",
    "    frames.append(df)\n",
    "    df_historical_data = pd.concat(frames)\n",
    "    df_historical_data['Date'] = pd.to_datetime(df_historical_data['Date'])\n",
    "    dict_historical_data['la_liga'] = df_historical_data"
   ]
  },
  {
   "cell_type": "code",
   "execution_count": 14,
   "id": "6d0dee16-af17-4b4e-a5a5-2826dd6efdd6",
   "metadata": {},
   "outputs": [
    {
     "data": {
      "text/plain": [
       "{'la_liga':           Date     HomeTeam    AwayTeam  HomeGoals  AwayGoals  Season\n",
       " 0   2018-08-17        Betis     Levante          0          3       4\n",
       " 1   2018-08-17       Girona  Valladolid          0          0       4\n",
       " 2   2018-08-18    Barcelona      Alaves          3          0       4\n",
       " 3   2018-08-18        Celta     Espanol          1          1       4\n",
       " 4   2018-08-18   Villarreal    Sociedad          1          2       4\n",
       " ..         ...          ...         ...        ...        ...     ...\n",
       " 375 2019-05-18      Levante  Ath Madrid          2          2       4\n",
       " 376 2019-05-18      Sevilla  Ath Bilbao          2          0       4\n",
       " 377 2019-05-18   Valladolid    Valencia          0          2       4\n",
       " 378 2019-05-19        Eibar   Barcelona          2          2       4\n",
       " 379 2019-05-19  Real Madrid       Betis          0          2       4\n",
       " \n",
       " [380 rows x 6 columns]}"
      ]
     },
     "execution_count": 14,
     "metadata": {},
     "output_type": "execute_result"
    }
   ],
   "source": [
    "dict_historical_data"
   ]
  },
  {
   "cell_type": "code",
   "execution_count": 15,
   "id": "16221abe-d059-4398-a9e8-80dab1ebbd96",
   "metadata": {},
   "outputs": [],
   "source": [
    "for i in dict_historical_data:\n",
    "    dict_historical_data[i]['TotalGoals'] = dict_historical_data[i]['HomeGoals'] + dict_historical_data[i]['AwayGoals']"
   ]
  },
  {
   "cell_type": "code",
   "execution_count": 16,
   "id": "d80a16fc-f114-4fc8-9b27-c65f5f4121a4",
   "metadata": {},
   "outputs": [
    {
     "name": "stdout",
     "output_type": "stream",
     "text": [
      "la_liga\n",
      "2.586842105263158\n"
     ]
    }
   ],
   "source": [
    "for i in dict_historical_data:\n",
    "    print(i)\n",
    "    print(dict_historical_data[i]['TotalGoals'].mean())"
   ]
  },
  {
   "cell_type": "code",
   "execution_count": 17,
   "id": "c4914849-9d5c-42f2-b28e-ce2224af7fcd",
   "metadata": {},
   "outputs": [],
   "source": [
    "# Team Strength \n",
    "\n",
    "def calculate_strength(league):\n",
    "    home = dict_historical_data[league][['HomeTeam', 'HomeGoals', 'AwayGoals']].rename(\n",
    "        columns={'HomeTeam':'Team', 'HomeGoals':'HomeScored', 'AwayGoals':'HomeConceded'}).groupby(\n",
    "        ['Team'], as_index=False)[['HomeScored', 'HomeConceded']].mean()\n",
    "    away = dict_historical_data[league][['AwayTeam', 'HomeGoals', 'AwayGoals']].rename(\n",
    "        columns={'AwayTeam':'Team', 'HomeGoals':'AwayConceded', 'AwayGoals':'AwayScored'}).groupby(\n",
    "        ['Team'], as_index=False)[['AwayScored', 'AwayConceded']].mean()\n",
    "\n",
    "    df_league_strength = pd.merge(home, away, on='Team')\n",
    "    average_home_scored, average_home_conceded = home['HomeScored'].mean(), home['HomeConceded'].mean()\n",
    "    average_away_scored, average_away_conceded = away['AwayScored'].mean(), away['AwayConceded'].mean()\n",
    "\n",
    "    df_league_strength['HomeScored'] /= average_home_scored\n",
    "    df_league_strength['HomeConceded'] /= average_home_conceded\n",
    "    df_league_strength['AwayScored'] /= average_away_scored\n",
    "    df_league_strength['AwayConceded'] /= average_away_conceded\n",
    "\n",
    "    df_league_strength.set_index('Team', inplace=True)\n",
    "    return df_league_strength"
   ]
  },
  {
   "cell_type": "code",
   "execution_count": 18,
   "id": "ca29c5ef-d667-42b9-b8b7-d7cf70e6fa93",
   "metadata": {},
   "outputs": [],
   "source": [
    "def predict_points(home, away):\n",
    "    if home in df_league_strength.index and away in df_league_strength.index:\n",
    "        #home_scored * away_conceded\n",
    "        lamb_home = df_league_strength.at[home,'HomeScored'] * df_league_strength.at[away,'AwayConceded']\n",
    "        lamb_away = df_league_strength.at[away,'AwayScored'] * df_league_strength.at[home,'HomeConceded']\n",
    "        prob_home, prob_away, prob_draw = 0, 0, 0\n",
    "        for x in range(0,11): #number of goals home team\n",
    "            for y in range(0, 11): #number of goals away team\n",
    "                p = poisson.pmf(x, lamb_home) * poisson.pmf(y, lamb_away)\n",
    "                if x == y:\n",
    "                    prob_draw += p\n",
    "                elif x > y:\n",
    "                    prob_home += p\n",
    "                else:\n",
    "                    prob_away += p\n",
    "        \n",
    "        points_home = 3 * prob_home + prob_draw\n",
    "        points_away = 3 * prob_away + prob_draw\n",
    "        return (points_home, points_away)\n",
    "    else:\n",
    "        return (0, 0)"
   ]
  },
  {
   "cell_type": "code",
   "execution_count": 22,
   "id": "51d60aa6-f0dc-40b6-87ab-acc0999101e7",
   "metadata": {},
   "outputs": [],
   "source": [
    "#  Simulate the matches to predict final standings\n",
    "#league = 'la_liga' #'la_liga', 'premier_league', 'bundesliga', 'serie_a'\n",
    "#df_league_strength = calculate_strength(league)\n",
    "\n",
    "#list_points_home = []\n",
    "#list_points_away = []\n",
    "#for index, row in remaining[league].iterrows():\n",
    "#    home, away = row['HomeTeam'], row['AwayTeam']\n",
    "#    points_home, points_away = predict_points(home, away)\n",
    "#    dict_table[league].loc[dict_table[league]['Team'] == home, 'Points'] += points_home\n",
    "#    dict_table[league].loc[dict_table[league]['Team'] == away, 'Points'] += points_away\n",
    "#    #storing every match result\n",
    "#    list_points_home.append(round(points_home, 1))\n",
    "#    list_points_away.append(round(points_away, 1))\n",
    "    \n",
    "#dict_table[league] = dict_table[league].sort_values('Points', ascending=False).reset_index()\n",
    "#dict_table[league] = dict_table[league][['Team', 'Points']]\n",
    "#dict_table[league].round(0)"
   ]
  },
  {
   "cell_type": "code",
   "execution_count": 10,
   "id": "e9cf48f1-646a-4dfe-a1c0-155223f4f0e3",
   "metadata": {},
   "outputs": [],
   "source": [
    "result = calculate_strength(\"la_liga\")"
   ]
  },
  {
   "cell_type": "code",
   "execution_count": null,
   "id": "8cf7a60c-e134-4e7d-9168-567a5a6e9155",
   "metadata": {},
   "outputs": [],
   "source": []
  }
 ],
 "metadata": {
  "kernelspec": {
   "display_name": "Python 3 (ipykernel)",
   "language": "python",
   "name": "python3"
  },
  "language_info": {
   "codemirror_mode": {
    "name": "ipython",
    "version": 3
   },
   "file_extension": ".py",
   "mimetype": "text/x-python",
   "name": "python",
   "nbconvert_exporter": "python",
   "pygments_lexer": "ipython3",
   "version": "3.9.13"
  }
 },
 "nbformat": 4,
 "nbformat_minor": 5
}
